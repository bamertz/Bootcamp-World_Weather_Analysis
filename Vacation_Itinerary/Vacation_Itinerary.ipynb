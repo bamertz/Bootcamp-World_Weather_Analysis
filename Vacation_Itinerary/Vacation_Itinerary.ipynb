{
 "cells": [
  {
   "cell_type": "markdown",
   "metadata": {},
   "source": [
    "## Deliverable 3. Create a Travel Itinerary Map."
   ]
  },
  {
   "cell_type": "code",
   "execution_count": 3,
   "metadata": {
    "scrolled": true
   },
   "outputs": [],
   "source": [
    "# Dependencies and Setup\n",
    "import pandas as pd\n",
    "import requests\n",
    "import gmaps\n",
    "\n",
    "# Import API key\n",
    "from config import g_key\n",
    "\n",
    "# Configure gmaps\n",
    "gmaps.configure(api_key=g_key)"
   ]
  },
  {
   "cell_type": "code",
   "execution_count": 5,
   "metadata": {},
   "outputs": [
    {
     "data": {
      "text/html": [
       "<div>\n",
       "<style scoped>\n",
       "    .dataframe tbody tr th:only-of-type {\n",
       "        vertical-align: middle;\n",
       "    }\n",
       "\n",
       "    .dataframe tbody tr th {\n",
       "        vertical-align: top;\n",
       "    }\n",
       "\n",
       "    .dataframe thead th {\n",
       "        text-align: right;\n",
       "    }\n",
       "</style>\n",
       "<table border=\"1\" class=\"dataframe\">\n",
       "  <thead>\n",
       "    <tr style=\"text-align: right;\">\n",
       "      <th></th>\n",
       "      <th>City_ID</th>\n",
       "      <th>City</th>\n",
       "      <th>Country</th>\n",
       "      <th>Max Temp</th>\n",
       "      <th>Current Description</th>\n",
       "      <th>Lat</th>\n",
       "      <th>Lng</th>\n",
       "      <th>Hotel Name</th>\n",
       "    </tr>\n",
       "  </thead>\n",
       "  <tbody>\n",
       "    <tr>\n",
       "      <th>0</th>\n",
       "      <td>31</td>\n",
       "      <td>Kumluca</td>\n",
       "      <td>TR</td>\n",
       "      <td>76.37</td>\n",
       "      <td>clear sky</td>\n",
       "      <td>36.3703</td>\n",
       "      <td>30.2869</td>\n",
       "      <td>Akkol Apart</td>\n",
       "    </tr>\n",
       "    <tr>\n",
       "      <th>1</th>\n",
       "      <td>37</td>\n",
       "      <td>Saint George</td>\n",
       "      <td>US</td>\n",
       "      <td>93.79</td>\n",
       "      <td>few clouds</td>\n",
       "      <td>37.1041</td>\n",
       "      <td>-113.5841</td>\n",
       "      <td>Best Western Plus Abbey Inn</td>\n",
       "    </tr>\n",
       "    <tr>\n",
       "      <th>2</th>\n",
       "      <td>46</td>\n",
       "      <td>Altar</td>\n",
       "      <td>MX</td>\n",
       "      <td>93.25</td>\n",
       "      <td>few clouds</td>\n",
       "      <td>30.7000</td>\n",
       "      <td>-111.8167</td>\n",
       "      <td>Hotel Maria Elena</td>\n",
       "    </tr>\n",
       "    <tr>\n",
       "      <th>3</th>\n",
       "      <td>49</td>\n",
       "      <td>Hong Gai</td>\n",
       "      <td>VN</td>\n",
       "      <td>87.71</td>\n",
       "      <td>overcast clouds</td>\n",
       "      <td>20.9560</td>\n",
       "      <td>107.0946</td>\n",
       "      <td>Hạ Long DC Hotel</td>\n",
       "    </tr>\n",
       "    <tr>\n",
       "      <th>4</th>\n",
       "      <td>55</td>\n",
       "      <td>Kavaratti</td>\n",
       "      <td>IN</td>\n",
       "      <td>82.31</td>\n",
       "      <td>overcast clouds</td>\n",
       "      <td>10.5669</td>\n",
       "      <td>72.6420</td>\n",
       "      <td>Hotels in Lakshadweep Islands</td>\n",
       "    </tr>\n",
       "    <tr>\n",
       "      <th>...</th>\n",
       "      <td>...</td>\n",
       "      <td>...</td>\n",
       "      <td>...</td>\n",
       "      <td>...</td>\n",
       "      <td>...</td>\n",
       "      <td>...</td>\n",
       "      <td>...</td>\n",
       "      <td>...</td>\n",
       "    </tr>\n",
       "    <tr>\n",
       "      <th>199</th>\n",
       "      <td>683</td>\n",
       "      <td>Garango</td>\n",
       "      <td>BF</td>\n",
       "      <td>83.34</td>\n",
       "      <td>overcast clouds</td>\n",
       "      <td>11.8000</td>\n",
       "      <td>-0.5506</td>\n",
       "      <td>La Case LAVAL-GARANGO</td>\n",
       "    </tr>\n",
       "    <tr>\n",
       "      <th>200</th>\n",
       "      <td>684</td>\n",
       "      <td>Kalaleh</td>\n",
       "      <td>IR</td>\n",
       "      <td>79.16</td>\n",
       "      <td>broken clouds</td>\n",
       "      <td>37.3807</td>\n",
       "      <td>55.4916</td>\n",
       "      <td>کلاله</td>\n",
       "    </tr>\n",
       "    <tr>\n",
       "      <th>201</th>\n",
       "      <td>685</td>\n",
       "      <td>Inuvik</td>\n",
       "      <td>CA</td>\n",
       "      <td>79.56</td>\n",
       "      <td>broken clouds</td>\n",
       "      <td>68.3499</td>\n",
       "      <td>-133.7218</td>\n",
       "      <td>Nova Inn Inuvik</td>\n",
       "    </tr>\n",
       "    <tr>\n",
       "      <th>202</th>\n",
       "      <td>687</td>\n",
       "      <td>Kununurra</td>\n",
       "      <td>AU</td>\n",
       "      <td>76.98</td>\n",
       "      <td>overcast clouds</td>\n",
       "      <td>-15.7667</td>\n",
       "      <td>128.7333</td>\n",
       "      <td>Hotel Kununurra</td>\n",
       "    </tr>\n",
       "    <tr>\n",
       "      <th>203</th>\n",
       "      <td>688</td>\n",
       "      <td>Fukue</td>\n",
       "      <td>JP</td>\n",
       "      <td>77.36</td>\n",
       "      <td>fog</td>\n",
       "      <td>32.6881</td>\n",
       "      <td>128.8419</td>\n",
       "      <td>Goto Guesthouse Utojuku &amp; SA Car Rental</td>\n",
       "    </tr>\n",
       "  </tbody>\n",
       "</table>\n",
       "<p>204 rows × 8 columns</p>\n",
       "</div>"
      ],
      "text/plain": [
       "     City_ID          City Country  Max Temp Current Description      Lat  \\\n",
       "0         31       Kumluca      TR     76.37           clear sky  36.3703   \n",
       "1         37  Saint George      US     93.79          few clouds  37.1041   \n",
       "2         46         Altar      MX     93.25          few clouds  30.7000   \n",
       "3         49      Hong Gai      VN     87.71     overcast clouds  20.9560   \n",
       "4         55     Kavaratti      IN     82.31     overcast clouds  10.5669   \n",
       "..       ...           ...     ...       ...                 ...      ...   \n",
       "199      683       Garango      BF     83.34     overcast clouds  11.8000   \n",
       "200      684       Kalaleh      IR     79.16       broken clouds  37.3807   \n",
       "201      685        Inuvik      CA     79.56       broken clouds  68.3499   \n",
       "202      687     Kununurra      AU     76.98     overcast clouds -15.7667   \n",
       "203      688         Fukue      JP     77.36                 fog  32.6881   \n",
       "\n",
       "          Lng                               Hotel Name  \n",
       "0     30.2869                              Akkol Apart  \n",
       "1   -113.5841              Best Western Plus Abbey Inn  \n",
       "2   -111.8167                        Hotel Maria Elena  \n",
       "3    107.0946                         Hạ Long DC Hotel  \n",
       "4     72.6420            Hotels in Lakshadweep Islands  \n",
       "..        ...                                      ...  \n",
       "199   -0.5506                    La Case LAVAL-GARANGO  \n",
       "200   55.4916                                    کلاله  \n",
       "201 -133.7218                          Nova Inn Inuvik  \n",
       "202  128.7333                          Hotel Kununurra  \n",
       "203  128.8419  Goto Guesthouse Utojuku & SA Car Rental  \n",
       "\n",
       "[204 rows x 8 columns]"
      ]
     },
     "execution_count": 5,
     "metadata": {},
     "output_type": "execute_result"
    }
   ],
   "source": [
    "# 1. Read the WeatherPy_vacation.csv into a DataFrame.\n",
    "vacation_df = pd.read_csv(\"/Users/brendenmertz/Documents/GitHub/Bootcamp/06-APIs/Vacation_Search/WeatherPy_Database.csv\")\n",
    "vacation_df"
   ]
  },
  {
   "cell_type": "code",
   "execution_count": 6,
   "metadata": {},
   "outputs": [],
   "source": [
    "# 2. Using the template add the city name, the country code, the weather description and maximum temperature for the city.\n",
    "info_box_template = \"\"\"\n",
    "<dl>\n",
    "<dt>City</dt><dd>{City}</dd>\n",
    "<dt>Country</dt><dd>{Country}</dd>\n",
    "<dt>Current Weather </dt><dd> {Current Description} and {Max Temp} °F</dd>\n",
    "</dl>\n",
    "\"\"\"\n",
    "\n",
    "# 3a. Get the data from each row and add it to the formatting template and store the data in a list.\n",
    "hotel_info = [info_box_template.format(**row) for index, row in vacation_df.iterrows()]\n",
    "\n",
    "# 3b. Get the latitude and longitude from each row and store in a new DataFrame.\n",
    "locations = vacation_df[[\"Lat\", \"Lng\"]]"
   ]
  },
  {
   "cell_type": "code",
   "execution_count": 7,
   "metadata": {},
   "outputs": [
    {
     "data": {
      "application/vnd.jupyter.widget-view+json": {
       "model_id": "21ca66c53130408ba80439d0f78f6d2a",
       "version_major": 2,
       "version_minor": 0
      },
      "text/plain": [
       "Figure(layout=FigureLayout(height='420px'))"
      ]
     },
     "metadata": {},
     "output_type": "display_data"
    }
   ],
   "source": [
    "# 4a. Add a marker layer for each city to the map.\n",
    "fig = gmaps.figure(center=(30.0, 31.0), zoom_level=1.5)\n",
    "marker_layer = gmaps.marker_layer(locations, info_box_content=hotel_info)\n",
    "fig.add_layer(marker_layer)\n",
    "# 4b. Display the figure\n",
    "fig"
   ]
  },
  {
   "cell_type": "code",
   "execution_count": 11,
   "metadata": {},
   "outputs": [],
   "source": [
    "# From the map above pick 4 cities and create a vacation itinerary route to travel between the four cities. \n",
    "# 5. Create DataFrames for each city by filtering the 'vacation_df' using the loc method. \n",
    "# Hint: The starting and ending city should be the same city.\n",
    "\n",
    "vacation_start = vacation_df.loc[vacation_df[\"City\"] == \"Virginia Beach\"]\n",
    "vacation_end = vacation_df.loc[vacation_df[\"City\"] == \"Virginia Beach\"]\n",
    "vacation_stop1 = vacation_df.loc[vacation_df[\"City\"] == \"Palmer\"]\n",
    "vacation_stop2 = vacation_df.loc[vacation_df[\"City\"] == \"Mayo\"]\n",
    "vacation_stop3 = vacation_df.loc[vacation_df[\"City\"] == \"Tarboro\"]"
   ]
  },
  {
   "cell_type": "code",
   "execution_count": 12,
   "metadata": {},
   "outputs": [
    {
     "data": {
      "text/plain": [
       "(36.8529, -75.978)"
      ]
     },
     "execution_count": 12,
     "metadata": {},
     "output_type": "execute_result"
    }
   ],
   "source": [
    "# 6. Get the latitude-longitude pairs as tuples from each city DataFrame using the to_numpy function and list indexing.\n",
    "start = [tuple(r) for r in vacation_start[[\"Lat\", \"Lng\"]].to_numpy()][0]\n",
    "end =  [tuple(r) for r in vacation_end[[\"Lat\", \"Lng\"]].to_numpy()][0]\n",
    "stop1 =  [tuple(r) for r in vacation_stop1[[\"Lat\", \"Lng\"]].to_numpy()][0]\n",
    "stop2 =  [tuple(r) for r in vacation_stop2[[\"Lat\", \"Lng\"]].to_numpy()][0]\n",
    "stop3 =  [tuple(r) for r in vacation_stop3[[\"Lat\", \"Lng\"]].to_numpy()][0]\n",
    "end"
   ]
  },
  {
   "cell_type": "code",
   "execution_count": 13,
   "metadata": {
    "scrolled": true
   },
   "outputs": [
    {
     "data": {
      "application/vnd.jupyter.widget-view+json": {
       "model_id": "2f800f1f324e4791bf7a39bed88d6149",
       "version_major": 2,
       "version_minor": 0
      },
      "text/plain": [
       "Figure(layout=FigureLayout(height='420px'))"
      ]
     },
     "metadata": {},
     "output_type": "display_data"
    }
   ],
   "source": [
    "# 7. Create a direction layer map using the start and end latitude-longitude pairs,\n",
    "# and stop1, stop2, and stop3 as the waypoints. The travel_mode should be \"DRIVING\", \"BICYCLING\", or \"WALKING\".\n",
    "import gmaps.datasets\n",
    "\n",
    "fig = gmaps.figure()\n",
    "trip_itinerary = gmaps.directions_layer(\n",
    "        start, end, waypoints=[stop1,stop2,stop3],\n",
    "        travel_mode=\"DRIVING\")\n",
    "fig.add_layer(trip_itinerary)\n",
    "fig\n"
   ]
  },
  {
   "cell_type": "code",
   "execution_count": 14,
   "metadata": {},
   "outputs": [
    {
     "data": {
      "text/html": [
       "<div>\n",
       "<style scoped>\n",
       "    .dataframe tbody tr th:only-of-type {\n",
       "        vertical-align: middle;\n",
       "    }\n",
       "\n",
       "    .dataframe tbody tr th {\n",
       "        vertical-align: top;\n",
       "    }\n",
       "\n",
       "    .dataframe thead th {\n",
       "        text-align: right;\n",
       "    }\n",
       "</style>\n",
       "<table border=\"1\" class=\"dataframe\">\n",
       "  <thead>\n",
       "    <tr style=\"text-align: right;\">\n",
       "      <th></th>\n",
       "      <th>City_ID</th>\n",
       "      <th>City</th>\n",
       "      <th>Country</th>\n",
       "      <th>Max Temp</th>\n",
       "      <th>Current Description</th>\n",
       "      <th>Lat</th>\n",
       "      <th>Lng</th>\n",
       "      <th>Hotel Name</th>\n",
       "    </tr>\n",
       "  </thead>\n",
       "  <tbody>\n",
       "    <tr>\n",
       "      <th>0</th>\n",
       "      <td>656</td>\n",
       "      <td>Virginia Beach</td>\n",
       "      <td>US</td>\n",
       "      <td>79.02</td>\n",
       "      <td>scattered clouds</td>\n",
       "      <td>36.8529</td>\n",
       "      <td>-75.9780</td>\n",
       "      <td>Hilton Virginia Beach Oceanfront</td>\n",
       "    </tr>\n",
       "    <tr>\n",
       "      <th>1</th>\n",
       "      <td>518</td>\n",
       "      <td>Palmer</td>\n",
       "      <td>US</td>\n",
       "      <td>76.37</td>\n",
       "      <td>scattered clouds</td>\n",
       "      <td>42.1584</td>\n",
       "      <td>-72.3287</td>\n",
       "      <td>Wedgewood Motel</td>\n",
       "    </tr>\n",
       "    <tr>\n",
       "      <th>2</th>\n",
       "      <td>651</td>\n",
       "      <td>Mayo</td>\n",
       "      <td>US</td>\n",
       "      <td>79.21</td>\n",
       "      <td>few clouds</td>\n",
       "      <td>38.8876</td>\n",
       "      <td>-76.5119</td>\n",
       "      <td>Resorts Resource Group International</td>\n",
       "    </tr>\n",
       "    <tr>\n",
       "      <th>3</th>\n",
       "      <td>511</td>\n",
       "      <td>Tarboro</td>\n",
       "      <td>US</td>\n",
       "      <td>80.98</td>\n",
       "      <td>clear sky</td>\n",
       "      <td>35.8968</td>\n",
       "      <td>-77.5358</td>\n",
       "      <td>SureStay Plus Hotel Tarboro by Best Western</td>\n",
       "    </tr>\n",
       "  </tbody>\n",
       "</table>\n",
       "</div>"
      ],
      "text/plain": [
       "   City_ID            City Country  Max Temp Current Description      Lat  \\\n",
       "0      656  Virginia Beach      US     79.02    scattered clouds  36.8529   \n",
       "1      518          Palmer      US     76.37    scattered clouds  42.1584   \n",
       "2      651            Mayo      US     79.21          few clouds  38.8876   \n",
       "3      511         Tarboro      US     80.98           clear sky  35.8968   \n",
       "\n",
       "       Lng                                   Hotel Name  \n",
       "0 -75.9780             Hilton Virginia Beach Oceanfront  \n",
       "1 -72.3287                              Wedgewood Motel  \n",
       "2 -76.5119         Resorts Resource Group International  \n",
       "3 -77.5358  SureStay Plus Hotel Tarboro by Best Western  "
      ]
     },
     "execution_count": 14,
     "metadata": {},
     "output_type": "execute_result"
    }
   ],
   "source": [
    "# 8. To create a marker layer map between the four cities.\n",
    "#  Combine the four city DataFrames into one DataFrame using the concat() function.\n",
    "itinerary_df = pd.concat([vacation_start, vacation_stop1, vacation_stop2, vacation_stop3],ignore_index=True)\n",
    "itinerary_df"
   ]
  },
  {
   "cell_type": "code",
   "execution_count": 15,
   "metadata": {},
   "outputs": [],
   "source": [
    "# 9 Using the template add city name, the country code, the weather description and maximum temperature for the city. \n",
    "info_box_template = \"\"\"\n",
    "<dl>\n",
    "<dt>City</dt><dd>{City}</dd>\n",
    "<dt>Country</dt><dd>{Country}</dd>\n",
    "<dt>Hotel Name</dt><dd>{Hotel Name}</dd>\n",
    "<dt>Current Weather </dt><dd> {Current Description} and {Max Temp} °F</dd>\n",
    "</dl>\n",
    "\n",
    "\"\"\"\n",
    "\n",
    "# 10a Get the data from each row and add it to the formatting template and store the data in a list.\n",
    "hotel_info = [info_box_template.format(**row) for index, row in itinerary_df.iterrows()]\n",
    "\n",
    "# 10b. Get the latitude and longitude from each row and store in a new DataFrame.\n",
    "locations = itinerary_df[[\"Lat\", \"Lng\"]]"
   ]
  },
  {
   "cell_type": "code",
   "execution_count": 16,
   "metadata": {},
   "outputs": [
    {
     "data": {
      "application/vnd.jupyter.widget-view+json": {
       "model_id": "32fa931bf0004426be58d96519075558",
       "version_major": 2,
       "version_minor": 0
      },
      "text/plain": [
       "Figure(layout=FigureLayout(height='420px'))"
      ]
     },
     "metadata": {},
     "output_type": "display_data"
    }
   ],
   "source": [
    "# 11a. Add a marker layer for each city to the map.\n",
    "fig = gmaps.figure(center=(30.0, 31.0), zoom_level=1.5)\n",
    "marker_layer = gmaps.marker_layer(locations, info_box_content=hotel_info)\n",
    "fig.add_layer(marker_layer)\n",
    "\n",
    "# 11b. Display the figure\n",
    "fig"
   ]
  },
  {
   "cell_type": "code",
   "execution_count": null,
   "metadata": {},
   "outputs": [],
   "source": []
  }
 ],
 "metadata": {
  "kernelspec": {
   "display_name": "PythonData",
   "language": "python",
   "name": "pythondata"
  },
  "language_info": {
   "codemirror_mode": {
    "name": "ipython",
    "version": 3
   },
   "file_extension": ".py",
   "mimetype": "text/x-python",
   "name": "python",
   "nbconvert_exporter": "python",
   "pygments_lexer": "ipython3",
   "version": "3.9.7"
  },
  "latex_envs": {
   "LaTeX_envs_menu_present": true,
   "autoclose": false,
   "autocomplete": true,
   "bibliofile": "biblio.bib",
   "cite_by": "apalike",
   "current_citInitial": 1,
   "eqLabelWithNumbers": true,
   "eqNumInitial": 1,
   "hotkeys": {
    "equation": "Ctrl-E",
    "itemize": "Ctrl-I"
   },
   "labels_anchors": false,
   "latex_user_defs": false,
   "report_style_numbering": false,
   "user_envs_cfg": false
  }
 },
 "nbformat": 4,
 "nbformat_minor": 2
}
